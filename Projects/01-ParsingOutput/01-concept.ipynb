{
 "cells": [
  {
   "cell_type": "code",
   "execution_count": 14,
   "metadata": {},
   "outputs": [],
   "source": [
    "email_conversation = \"\"\"From: 박만혜 (chulsoo.kim@bikecorporation.me)\n",
    "To: 이은채 (eunchae@teddyinternational.me)\n",
    "Subject: \"ZENESIS\" 자전거 유통 협력 및 미팅 일정 제안\n",
    "\n",
    "안녕하세요, 이은채 대리님,\n",
    "\n",
    "저는 바이크코퍼레이션의 김철수 상무입니다. 최근 보도자료를 통해 귀사의 신규 자전거 \"ZENESIS\"에 대해 알게 되었습니다. 바이크코퍼레이션은 자전거 제조 및 유통 분야에서 혁신과 품질을 선도하는 기업으로, 이 분야에서의 장기적인 경험과 전문성을 가지고 있습니다.\n",
    "\n",
    "ZENESIS 모델에 대한 상세한 브로슈어를 요청드립니다. 특히 기술 사양, 배터리 성능, 그리고 디자인 측면에 대한 정보가 필요합니다. 이를 통해 저희가 제안할 유통 전략과 마케팅 계획을 보다 구체화할 수 있을 것입니다.\n",
    "\n",
    "또한, 협력 가능성을 더 깊이 논의하기 위해 다음 주 화요일(1월 15일) 오전 10시에 미팅을 제안합니다. 귀사 사무실에서 만나 이야기를 나눌 수 있을까요?\n",
    "\n",
    "감사합니다.\n",
    "\n",
    "김철수\n",
    "상무이사\n",
    "바이크코퍼레이션\n",
    "\"\"\""
   ]
  },
  {
   "cell_type": "code",
   "execution_count": 30,
   "metadata": {},
   "outputs": [],
   "source": [
    "from pydantic import BaseModel, Field\n",
    "\n",
    "# 이메일 본문으로부터 주요 엔티티 추출\n",
    "class EmailSummary(BaseModel):\n",
    "    person: str = Field(description=\"메일을 보낸 사람\")\n",
    "    phone_number: str = Field(description=\"메일 본문에 언급된 전화번호\")\n",
    "    company: str= Field(description=\"메일을 보낸 사람의 회사명\")\n",
    "    email: str = Field(description=\"메일을 보낸 사람의 이메일 주소\")\n",
    "    subject: str = Field(description=\"메일 제목\")\n",
    "    summary: str = Field(description=\"메일 본문을 요약한 텍스트\")\n",
    "    date: str = Field(description=\"메일 본문에 언급된 미팅 날짜와 시간\")"
   ]
  },
  {
   "cell_type": "code",
   "execution_count": 31,
   "metadata": {},
   "outputs": [],
   "source": [
    "# LCEL 구조\n",
    "\n",
    "# chain = prompt | llm | output_parser"
   ]
  },
  {
   "cell_type": "code",
   "execution_count": 32,
   "metadata": {},
   "outputs": [],
   "source": [
    "from langchain_openai import ChatOpenAI\n",
    "\n",
    "llm = ChatOpenAI(temperature=0, model_name=\"gpt-4o-mini\")"
   ]
  },
  {
   "cell_type": "code",
   "execution_count": 33,
   "metadata": {},
   "outputs": [],
   "source": [
    "from langchain_core.output_parsers import PydanticOutputParser\n",
    "\n",
    "# PydanticOutputParser 생성\n",
    "output_parser = PydanticOutputParser(pydantic_object=EmailSummary)"
   ]
  },
  {
   "cell_type": "code",
   "execution_count": 34,
   "metadata": {},
   "outputs": [],
   "source": [
    "from langchain_core.prompts import PromptTemplate\n",
    "\n",
    "prompt = PromptTemplate.from_template(\n",
    "    \"\"\"\n",
    "You are a helpful assistant. Please answer the following questions in KOREAN.\n",
    "\n",
    "# QUESTION:\n",
    "다음의 이메일 내용 중에서 주요 내용을 추출해 주세요.\n",
    "\n",
    "#EMAIL CONVERSATION:\n",
    "{email_conversation}\n",
    "\n",
    "#FORMAT:\n",
    "{format}\n",
    "\"\"\"\n",
    ")\n",
    "\n",
    "# format 에 PydanticOutputParser의 부분 포맷팅(partial) 추가\n",
    "prompt = prompt.partial(format=output_parser.get_format_instructions())"
   ]
  },
  {
   "cell_type": "code",
   "execution_count": 35,
   "metadata": {},
   "outputs": [
    {
     "data": {
      "text/plain": [
       "PromptTemplate(input_variables=['email_conversation'], input_types={}, partial_variables={'format': 'The output should be formatted as a JSON instance that conforms to the JSON schema below.\\n\\nAs an example, for the schema {\"properties\": {\"foo\": {\"title\": \"Foo\", \"description\": \"a list of strings\", \"type\": \"array\", \"items\": {\"type\": \"string\"}}}, \"required\": [\"foo\"]}\\nthe object {\"foo\": [\"bar\", \"baz\"]} is a well-formatted instance of the schema. The object {\"properties\": {\"foo\": [\"bar\", \"baz\"]}} is not well-formatted.\\n\\nHere is the output schema:\\n```\\n{\"properties\": {\"person\": {\"description\": \"메일을 보낸 사람\", \"title\": \"Person\", \"type\": \"string\"}, \"phone_number\": {\"description\": \"메일 본문에 언급된 전화번호\", \"title\": \"Phone Number\", \"type\": \"string\"}, \"company\": {\"description\": \"메일을 보낸 사람의 회사명\", \"title\": \"Company\", \"type\": \"string\"}, \"email\": {\"description\": \"메일을 보낸 사람의 이메일 주소\", \"title\": \"Email\", \"type\": \"string\"}, \"subject\": {\"description\": \"메일 제목\", \"title\": \"Subject\", \"type\": \"string\"}, \"summary\": {\"description\": \"메일 본문을 요약한 텍스트\", \"title\": \"Summary\", \"type\": \"string\"}, \"date\": {\"description\": \"메일 본문에 언급된 미팅 날짜와 시간\", \"title\": \"Date\", \"type\": \"string\"}}, \"required\": [\"person\", \"phone_number\", \"company\", \"email\", \"subject\", \"summary\", \"date\"]}\\n```'}, template='\\nYou are a helpful assistant. Please answer the following questions in KOREAN.\\n\\n# QUESTION:\\n다음의 이메일 내용 중에서 주요 내용을 추출해 주세요.\\n\\n#EMAIL CONVERSATION:\\n{email_conversation}\\n\\n#FORMAT:\\n{format}\\n')"
      ]
     },
     "execution_count": 35,
     "metadata": {},
     "output_type": "execute_result"
    }
   ],
   "source": [
    "prompt"
   ]
  },
  {
   "cell_type": "code",
   "execution_count": 36,
   "metadata": {},
   "outputs": [],
   "source": [
    "# 체인 생성\n",
    "chain = prompt | llm | output_parser"
   ]
  },
  {
   "cell_type": "code",
   "execution_count": 38,
   "metadata": {},
   "outputs": [],
   "source": [
    "answer = chain.invoke({\"email_conversation\":email_conversation})"
   ]
  },
  {
   "cell_type": "code",
   "execution_count": 41,
   "metadata": {},
   "outputs": [
    {
     "data": {
      "text/plain": [
       "'김철수 바이크코퍼레이션 chulsoo.kim@bikecorporation.me'"
      ]
     },
     "execution_count": 41,
     "metadata": {},
     "output_type": "execute_result"
    }
   ],
   "source": [
    "query = f\"{answer.person} {answer.company} {answer.email}\"\n",
    "query"
   ]
  },
  {
   "cell_type": "markdown",
   "metadata": {},
   "source": [
    "# Serp API - Google 검색"
   ]
  },
  {
   "cell_type": "code",
   "execution_count": 24,
   "metadata": {},
   "outputs": [
    {
     "data": {
      "text/plain": [
       "True"
      ]
     },
     "execution_count": 24,
     "metadata": {},
     "output_type": "execute_result"
    }
   ],
   "source": [
    "from dotenv import load_dotenv\n",
    "\n",
    "load_dotenv()"
   ]
  },
  {
   "cell_type": "code",
   "execution_count": 28,
   "metadata": {},
   "outputs": [],
   "source": [
    "from langchain_community.utilities import SerpAPIWrapper\n",
    "\n",
    "params = {\"engine\":\"google\",\"gl\":\"kr\",\"hl\":\"ko\",\"num\":3}\n",
    "\n",
    "search = SerpAPIWrapper(params=params)"
   ]
  },
  {
   "cell_type": "code",
   "execution_count": 43,
   "metadata": {},
   "outputs": [],
   "source": [
    "search_result = search.run(query)"
   ]
  },
  {
   "cell_type": "code",
   "execution_count": null,
   "metadata": {},
   "outputs": [],
   "source": [
    "search_result = eval(search_result)"
   ]
  },
  {
   "cell_type": "code",
   "execution_count": 47,
   "metadata": {},
   "outputs": [],
   "source": [
    "# 검색 결과\n",
    "search_result_string = '\\n'.join(search_result)"
   ]
  },
  {
   "cell_type": "code",
   "execution_count": 48,
   "metadata": {},
   "outputs": [
    {
     "data": {
      "text/plain": [
       "EmailSummary(person='김철수', phone_number='', company='바이크코퍼레이션', email='chulsoo.kim@bikecorporation.me', subject='\"ZENESIS\" 자전거 유통 협력 및 미팅 일정 제안', summary=\"김철수 상무가 이은채 대리님에게 'ZENESIS' 자전거의 브로슈어 요청과 협력 논의를 위한 미팅 제안을 보냈습니다.\", date='1월 15일 오전 10시')"
      ]
     },
     "execution_count": 48,
     "metadata": {},
     "output_type": "execute_result"
    }
   ],
   "source": [
    "answer"
   ]
  },
  {
   "cell_type": "code",
   "execution_count": 58,
   "metadata": {},
   "outputs": [],
   "source": [
    "from langchain_core.prompts import PromptTemplate\n",
    "\n",
    "report_prompt = PromptTemplate.from_template(\n",
    "    \"\"\"\n",
    "    당신은 이메일의 주요 정보를 바탕으로 요약 정리해주는 전문가입니다.\n",
    "    당신의 임무는 다음의 이메일 정보를 바탕으로 보고서 형식의 요약을 작성하는 것입니다.\n",
    "    주어진 정보를 기반으로 양식(format)에 맞춰서 요약을 작성해주세요.\n",
    "    답변에는 카테고리별로 emoji를 적극 활용해 답변해주세요.\n",
    "    \n",
    "    #information\n",
    "    - Name : {sender}\n",
    "    - Additional Information about sender : {additional_information}\n",
    "    - Company : {company}\n",
    "    - Email : {email}\n",
    "    - Subject : {subject}\n",
    "    - Summary : {summary}\n",
    "    \n",
    "    #Format(in markdown format):\n",
    "    보낸 사람 :\n",
    "    - (보낸 사람의 이름, 회사정보)\n",
    "    \n",
    "    이메일 주소 :\n",
    "    - (보낸 사람의 이메일 주소)\n",
    "    \n",
    "    보낸 사람과 관련하여 검색된 추가 정보:\n",
    "    - (검색된 추가 정보)\n",
    "    \n",
    "    주요 내용:\n",
    "    - (이메일 제목, 요약)\n",
    "    \n",
    "    일정:\n",
    "    - (미팅 날짜 및 시간)\n",
    "    \n",
    "    #Answer:\n",
    "    \"\"\"\n",
    ")"
   ]
  },
  {
   "cell_type": "code",
   "execution_count": 59,
   "metadata": {},
   "outputs": [],
   "source": [
    "from langchain_core.output_parsers import StrOutputParser\n",
    "\n",
    "report_chain = report_prompt | ChatOpenAI(model=\"gpt-4o-mini\",temperature=0) | StrOutputParser()"
   ]
  },
  {
   "cell_type": "code",
   "execution_count": 60,
   "metadata": {},
   "outputs": [],
   "source": [
    "report_response = report_chain.invoke({\n",
    "    \"sender\":answer.person,\n",
    "    \"additional_information\":search_result_string,\n",
    "    \"company\":answer.company,\n",
    "    \"email\":answer.email,\n",
    "    \"subject\":answer.subject,\n",
    "    \"summary\":answer.summary,\n",
    "    \"date\":answer.date\n",
    "})"
   ]
  },
  {
   "cell_type": "code",
   "execution_count": 61,
   "metadata": {},
   "outputs": [
    {
     "name": "stdout",
     "output_type": "stream",
     "text": [
      "```markdown\n",
      "보낸 사람 :\n",
      "- 김철수, 상무이사, 바이크코퍼레이션\n",
      "\n",
      "이메일 주소 :\n",
      "- chulsoo.kim@bikecorporation.me\n",
      "\n",
      "보낸 사람과 관련하여 검색된 추가 정보:\n",
      "- 김철수 상무는 바이크코퍼레이션에서 자전거 유통 및 협력 관련 업무를 담당하고 있습니다. \n",
      "\n",
      "주요 내용:\n",
      "- 제목: \"ZENESIS\" 자전거 유통 협력 및 미팅 일정 제안 🚴‍♂️\n",
      "- 요약: 김철수 상무가 이은채 대리님에게 'ZENESIS' 자전거의 브로슈어 요청과 협력 논의를 위한 미팅 제안을 보냈습니다. 📄🤝\n",
      "\n",
      "일정:\n",
      "- 미팅 날짜 및 시간: 추후 협의 예정 ⏰\n",
      "```\n"
     ]
    }
   ],
   "source": [
    "print(report_response)"
   ]
  },
  {
   "cell_type": "code",
   "execution_count": null,
   "metadata": {},
   "outputs": [],
   "source": []
  }
 ],
 "metadata": {
  "kernelspec": {
   "display_name": "lang-study",
   "language": "python",
   "name": "python3"
  },
  "language_info": {
   "codemirror_mode": {
    "name": "ipython",
    "version": 3
   },
   "file_extension": ".py",
   "mimetype": "text/x-python",
   "name": "python",
   "nbconvert_exporter": "python",
   "pygments_lexer": "ipython3",
   "version": "3.10.15"
  }
 },
 "nbformat": 4,
 "nbformat_minor": 2
}
