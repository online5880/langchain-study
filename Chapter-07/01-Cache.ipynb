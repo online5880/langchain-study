{
 "cells": [
  {
   "cell_type": "markdown",
   "metadata": {},
   "source": [
    "## 캐싱(Caching)\n",
    "\n",
    "LangChain은 LLM을 위한 선택적 캐싱 레이어를 제공합니다.\n",
    "\n",
    "이는 두 가지 이유로 유용합니다.\n",
    "\n",
    "- 동일한 완료를 여러 번 요청하는 경우 LLM 공급자에 대한 **API 호출 횟수를 줄여 비용을 절감**할 수 있습니다.\n",
    "- LLM 제공업체에 대한 **API 호출 횟수를 줄여 애플리케이션의 속도를 높일 수** 있습니다."
   ]
  },
  {
   "cell_type": "code",
   "execution_count": 1,
   "metadata": {},
   "outputs": [
    {
     "data": {
      "text/plain": [
       "True"
      ]
     },
     "execution_count": 1,
     "metadata": {},
     "output_type": "execute_result"
    }
   ],
   "source": [
    "# API KEY를 환경변수로 관리하기 위한 설정 파일\n",
    "from dotenv import load_dotenv\n",
    "\n",
    "# API KEY 정보로드\n",
    "load_dotenv()"
   ]
  },
  {
   "cell_type": "code",
   "execution_count": 2,
   "metadata": {},
   "outputs": [],
   "source": [
    "from langchain_openai import ChatOpenAI\n",
    "from langchain_core.prompts import PromptTemplate\n",
    "\n",
    "# 모델을 생성합니다.\n",
    "llm = ChatOpenAI(model_name=\"gpt-4o-mini\")\n",
    "\n",
    "# 프롬프트를 생성합니다.\n",
    "prompt = PromptTemplate.from_template(\"{country} 에 대해서 200자 내외로 요약해줘\")\n",
    "\n",
    "# 체인을 생성합니다.\n",
    "chain = prompt | llm"
   ]
  },
  {
   "cell_type": "code",
   "execution_count": 3,
   "metadata": {},
   "outputs": [
    {
     "name": "stdout",
     "output_type": "stream",
     "text": [
      "한국은 동아시아에 위치한 국가로, 한반도를 차지하고 있습니다. 남한과 북한으로 나뉘어 있으며, 서울은 수도입니다. 한국은 고유의 문화와 전통을 보유하고 있으며, K-팝, 한국 드라마 등으로 세계적으로 유명합니다. 경제적으로는 정보통신, 자동차, 반도체 산업이 발달하였고, 교육 수준이 높습니다. 역사적으로는 일본의 식민지와 한국 전쟁을 겪었으며, 현재는 민주주의와 시장 경제 체제를 갖추고 있습니다.\n",
      "CPU times: user 27.4 ms, sys: 23.8 ms, total: 51.3 ms\n",
      "Wall time: 3.45 s\n"
     ]
    }
   ],
   "source": [
    "%%time\n",
    "response = chain.invoke({\"country\":\"한국\"})\n",
    "print(response.content)"
   ]
  },
  {
   "cell_type": "markdown",
   "metadata": {},
   "source": [
    "# InMemoryCache"
   ]
  },
  {
   "cell_type": "code",
   "execution_count": 3,
   "metadata": {},
   "outputs": [
    {
     "name": "stdout",
     "output_type": "stream",
     "text": [
      "한국은 동아시아에 위치한 한반도의 나라로, 남한과 북한으로 나뉘어 있습니다. 서울이 수도인 남한은 경제와 기술 발전이 빠르며, 문화적으로 K-팝, 영화, 음식으로 세계적으로 유명합니다. 북한은 사회주의 체제를 유지하고 있으며, 정치적 긴장 상황이 지속되고 있습니다. 한국은 전통과 현대가 조화를 이루는 독특한 문화를 가지고 있습니다.\n",
      "CPU times: user 1.57 s, sys: 660 ms, total: 2.23 s\n",
      "Wall time: 2.38 s\n"
     ]
    }
   ],
   "source": [
    "%%time\n",
    "from langchain.globals import set_llm_cache\n",
    "from langchain.cache import  InMemoryCache\n",
    "\n",
    "set_llm_cache(InMemoryCache())\n",
    "\n",
    "response = chain.invoke({\"country\":\"한국\"})\n",
    "print(response.content)"
   ]
  },
  {
   "cell_type": "code",
   "execution_count": 4,
   "metadata": {},
   "outputs": [
    {
     "name": "stdout",
     "output_type": "stream",
     "text": [
      "한국은 동아시아에 위치한 한반도의 나라로, 남한과 북한으로 나뉘어 있습니다. 서울이 수도인 남한은 경제와 기술 발전이 빠르며, 문화적으로 K-팝, 영화, 음식으로 세계적으로 유명합니다. 북한은 사회주의 체제를 유지하고 있으며, 정치적 긴장 상황이 지속되고 있습니다. 한국은 전통과 현대가 조화를 이루는 독특한 문화를 가지고 있습니다.\n",
      "CPU times: user 1.92 ms, sys: 5.35 ms, total: 7.26 ms\n",
      "Wall time: 11 ms\n"
     ]
    }
   ],
   "source": [
    "%%time\n",
    "response = chain.invoke({\"country\":\"한국\"})\n",
    "print(response.content)"
   ]
  },
  {
   "cell_type": "markdown",
   "metadata": {},
   "source": [
    "# SQLite Cache"
   ]
  },
  {
   "cell_type": "code",
   "execution_count": 5,
   "metadata": {},
   "outputs": [],
   "source": [
    "from langchain_community.cache import SQLiteCache\n",
    "from langchain_core.globals import set_llm_cache\n",
    "import os\n",
    "\n",
    "if not os.path.exists(\"cache\"):\n",
    "    os.makedirs(\"cache\")\n",
    "    \n",
    "set_llm_cache(SQLiteCache(database_path=(\"./cache/llm_cache.db\")))"
   ]
  },
  {
   "cell_type": "code",
   "execution_count": 6,
   "metadata": {},
   "outputs": [
    {
     "name": "stdout",
     "output_type": "stream",
     "text": [
      "한국은 동아시아에 위치한 한반도의 국가로, 북쪽은 북한, 남쪽은 대한민국으로 나뉜다. 한국은 풍부한 역사와 문화를 가지고 있으며, 전통과 현대가 조화를 이루는 사회다. K-팝, K-드라마 등으로 세계적으로 영향력을 발휘하고 있으며, IT와 산업 분야에서도 선진국 반열에 올라 있다. 한식은 다양하고 건강한 음식으로 알려져 있으며, 아름다운 자연경관과 사계절이 뚜렷하다.\n"
     ]
    }
   ],
   "source": [
    "response = chain.invoke({\"country\":\"한국\"})\n",
    "print(response.content)"
   ]
  },
  {
   "cell_type": "code",
   "execution_count": 7,
   "metadata": {},
   "outputs": [
    {
     "name": "stdout",
     "output_type": "stream",
     "text": [
      "한국은 동아시아에 위치한 한반도의 국가로, 북쪽은 북한, 남쪽은 대한민국으로 나뉜다. 한국은 풍부한 역사와 문화를 가지고 있으며, 전통과 현대가 조화를 이루는 사회다. K-팝, K-드라마 등으로 세계적으로 영향력을 발휘하고 있으며, IT와 산업 분야에서도 선진국 반열에 올라 있다. 한식은 다양하고 건강한 음식으로 알려져 있으며, 아름다운 자연경관과 사계절이 뚜렷하다.\n"
     ]
    }
   ],
   "source": [
    "response = chain.invoke({\"country\":\"한국\"})\n",
    "print(response.content)"
   ]
  },
  {
   "cell_type": "code",
   "execution_count": null,
   "metadata": {},
   "outputs": [],
   "source": []
  }
 ],
 "metadata": {
  "kernelspec": {
   "display_name": "lang-study",
   "language": "python",
   "name": "python3"
  },
  "language_info": {
   "codemirror_mode": {
    "name": "ipython",
    "version": 3
   },
   "file_extension": ".py",
   "mimetype": "text/x-python",
   "name": "python",
   "nbconvert_exporter": "python",
   "pygments_lexer": "ipython3",
   "version": "3.10.15"
  }
 },
 "nbformat": 4,
 "nbformat_minor": 2
}
