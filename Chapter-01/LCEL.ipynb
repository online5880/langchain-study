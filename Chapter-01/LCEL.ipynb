{
 "cells": [
  {
   "cell_type": "code",
   "execution_count": 61,
   "metadata": {},
   "outputs": [],
   "source": [
    "from langchain_core.prompts import PromptTemplate"
   ]
  },
  {
   "cell_type": "code",
   "execution_count": 65,
   "metadata": {},
   "outputs": [
    {
     "data": {
      "text/plain": [
       "PromptTemplate(input_variables=['country'], input_types={}, partial_variables={}, template='{country}의 수도는 어디인가요?')"
      ]
     },
     "execution_count": 65,
     "metadata": {},
     "output_type": "execute_result"
    }
   ],
   "source": [
    "template = \"{country}의 수도는 어디인가요?\"\n",
    "\n",
    "prompt_template = PromptTemplate.from_template(template)\n",
    "prompt_template"
   ]
  },
  {
   "cell_type": "code",
   "execution_count": 66,
   "metadata": {},
   "outputs": [
    {
     "data": {
      "text/plain": [
       "'지구의 수도는 어디인가요?'"
      ]
     },
     "execution_count": 66,
     "metadata": {},
     "output_type": "execute_result"
    }
   ],
   "source": [
    "prompt = prompt_template.format(country=\"지구\")\n",
    "prompt"
   ]
  },
  {
   "cell_type": "code",
   "execution_count": 67,
   "metadata": {},
   "outputs": [
    {
     "data": {
      "text/plain": [
       "'태양의 수도는 어디인가요?'"
      ]
     },
     "execution_count": 67,
     "metadata": {},
     "output_type": "execute_result"
    }
   ],
   "source": [
    "prompt = prompt_template.format(country=\"태양\")\n",
    "prompt"
   ]
  },
  {
   "cell_type": "markdown",
   "metadata": {},
   "source": [
    "# Chain 생성"
   ]
  },
  {
   "cell_type": "code",
   "execution_count": 85,
   "metadata": {},
   "outputs": [],
   "source": [
    "from langchain_openai import ChatOpenAI\n",
    "\n",
    "prompt = PromptTemplate.from_template(\"{topic}에 대해 {how} 설명해주세요.\")\n",
    "\n",
    "model = ChatOpenAI(model='gpt-4o-mini')\n",
    "\n",
    "chain = prompt | model"
   ]
  },
  {
   "cell_type": "code",
   "execution_count": 86,
   "metadata": {},
   "outputs": [
    {
     "data": {
      "text/plain": [
       "PromptTemplate(input_variables=['how', 'topic'], input_types={}, partial_variables={}, template='{topic}에 대해 {how} 설명해주세요.')\n",
       "| ChatOpenAI(client=<openai.resources.chat.completions.Completions object at 0x119013b50>, async_client=<openai.resources.chat.completions.AsyncCompletions object at 0x119012b00>, root_client=<openai.OpenAI object at 0x118e63fa0>, root_async_client=<openai.AsyncOpenAI object at 0x119011b10>, model_name='gpt-4o-mini', model_kwargs={}, openai_api_key=SecretStr('**********'))"
      ]
     },
     "execution_count": 86,
     "metadata": {},
     "output_type": "execute_result"
    }
   ],
   "source": [
    "chain"
   ]
  },
  {
   "cell_type": "markdown",
   "metadata": {},
   "source": [
    "# invoke() 호출"
   ]
  },
  {
   "cell_type": "code",
   "execution_count": 87,
   "metadata": {},
   "outputs": [],
   "source": [
    "input = {\"topic\":\"인공지능 모델의 기능 고장\",\"how\":\"인공지능을 아예 모르는 사람에게 쉽게\"}"
   ]
  },
  {
   "cell_type": "code",
   "execution_count": 88,
   "metadata": {},
   "outputs": [],
   "source": [
    "answer = chain.invoke(input)"
   ]
  },
  {
   "cell_type": "code",
   "execution_count": 89,
   "metadata": {},
   "outputs": [
    {
     "data": {
      "text/plain": [
       "AIMessage(content='인공지능 모델의 기능 고장은 마치 우리가 사용하는 전자기기가 고장나는 것과 비슷합니다. 예를 들어, TV가 갑자기 화면이 안 나오거나, 스마트폰이 작동하지 않을 때가 있죠. 이런 경우, 기계 내부의 어떤 부분이 제대로 작동하지 않아서 문제를 일으키는 것입니다.\\n\\n인공지능도 마찬가지로, 데이터와 알고리즘을 사용해 작업을 수행하는 프로그램입니다. 하지만 가끔은 이 프로그램이 잘못된 데이터를 받거나, 알고리즘이 어떤 이유로 제대로 작동하지 않으면, 원하는 결과를 내지 못할 수 있습니다. \\n\\n예를 들어, 사진을 보고 사람을 인식하는 인공지능이 있다고 가정해볼게요. 만약 그 인공지능이 이상한 사진을 받거나, 데이터가 잘못되어 있다면, 사람을 잘못 인식하거나 아예 인식을 못할 수도 있습니다. \\n\\n즉, 인공지능의 기능 고장은 여러 가지 이유로 발생할 수 있으며, 이는 우리가 사용하는 기계가 고장나는 것과 비슷한 개념이라고 이해하면 됩니다.', additional_kwargs={'refusal': None}, response_metadata={'token_usage': {'completion_tokens': 242, 'prompt_tokens': 31, 'total_tokens': 273, 'completion_tokens_details': {'audio_tokens': None, 'reasoning_tokens': 0}, 'prompt_tokens_details': {'audio_tokens': None, 'cached_tokens': 0}}, 'model_name': 'gpt-4o-mini-2024-07-18', 'system_fingerprint': 'fp_482c22a7bc', 'finish_reason': 'stop', 'logprobs': None}, id='run-dc2dbf70-d378-4daf-bea1-e445fcc84202-0', usage_metadata={'input_tokens': 31, 'output_tokens': 242, 'total_tokens': 273, 'input_token_details': {'cache_read': 0}, 'output_token_details': {'reasoning': 0}})"
      ]
     },
     "execution_count": 89,
     "metadata": {},
     "output_type": "execute_result"
    }
   ],
   "source": [
    "answer"
   ]
  },
  {
   "cell_type": "markdown",
   "metadata": {},
   "source": [
    "# 출력 파서(Output Parser)"
   ]
  },
  {
   "cell_type": "code",
   "execution_count": 81,
   "metadata": {},
   "outputs": [],
   "source": [
    "from langchain_core.output_parsers import StrOutputParser\n",
    "\n",
    "output_parser = StrOutputParser()"
   ]
  },
  {
   "cell_type": "markdown",
   "metadata": {},
   "source": [
    "Chain 에 출력파서 추가"
   ]
  },
  {
   "cell_type": "code",
   "execution_count": 82,
   "metadata": {},
   "outputs": [],
   "source": [
    "chain = prompt |model|output_parser"
   ]
  },
  {
   "cell_type": "code",
   "execution_count": 84,
   "metadata": {},
   "outputs": [
    {
     "data": {
      "text/plain": [
       "'인공지능 모델의 기능 고장이란, 우리가 기대하는 대로 인공지능이 제대로 작동하지 않는 상황을 말해요. 예를 들어, 우리가 인공지능에게 \"고양이 사진 보여줘\"라고 요청했는데, 인공지능이 고양이가 아닌 다른 사진을 보여준다면, 이건 기능 고장이라고 할 수 있어요.\\n\\n이런 문제가 생기는 이유는 여러 가지가 있어요. 인공지능이 학습할 때 사용한 데이터가 부족하거나 잘못된 정보가 포함되어 있을 수 있고, 또는 인공지능을 만드는 프로그램에 오류가 있을 수도 있어요. 간단히 말해서, 인공지능이 원하는 대로 일을 잘 하지 못하는 상황을 기능 고장이라고 이해하면 됩니다.'"
      ]
     },
     "execution_count": 84,
     "metadata": {},
     "output_type": "execute_result"
    }
   ],
   "source": [
    "input = {\"topic\":\"인공지능 모델의 기능 고장\",\"how\":\"인공지능을 아예 모르는 사람에게 쉽게\"}\n",
    "chain.invoke(input)"
   ]
  },
  {
   "cell_type": "markdown",
   "metadata": {},
   "source": [
    "---"
   ]
  },
  {
   "cell_type": "code",
   "execution_count": 96,
   "metadata": {},
   "outputs": [
    {
     "data": {
      "text/plain": [
       "PromptTemplate(input_variables=['question'], input_types={}, partial_variables={}, template='\\n당신은 흑백 요리사의 백종원 선생님입니다. 상황에 [FORMAT]에 요리 레시피를 작성해 주세요.\\n\\n상황:\\n{question}\\n\\nFORMAT:\\n- 레시피 : \\n')"
      ]
     },
     "execution_count": 96,
     "metadata": {},
     "output_type": "execute_result"
    }
   ],
   "source": [
    "template = \"\"\"\n",
    "당신은 흑백 요리사의 백종원 선생님입니다. 상황에 [FORMAT]에 요리 레시피를 작성해 주세요.\n",
    "\n",
    "상황:\n",
    "{question}\n",
    "\n",
    "FORMAT:\n",
    "- 레시피 : \n",
    "\"\"\"\n",
    "\n",
    "# 프롬프트 템플릿을 이용하여 프롬프트를 생성합니다.\n",
    "prompt = PromptTemplate.from_template(template)\n",
    "prompt"
   ]
  },
  {
   "cell_type": "code",
   "execution_count": 100,
   "metadata": {},
   "outputs": [
    {
     "data": {
      "text/plain": [
       "PromptTemplate(input_variables=['question'], input_types={}, partial_variables={}, template='\\n당신은 흑백 요리사의 백종원 선생님입니다. \\n상황에 [FORMAT]에 요리 레시피를 작성해 주세요.\\n\\n# 상황:\\n{question}\\n\\n# FORMAT:\\n- 레시피 : \\n')"
      ]
     },
     "execution_count": 100,
     "metadata": {},
     "output_type": "execute_result"
    }
   ],
   "source": [
    "template = \"\"\"\n",
    "당신은 흑백 요리사의 백종원 선생님입니다. \n",
    "상황에 [FORMAT]에 요리 레시피를 작성해 주세요.\n",
    "\n",
    "# 상황:\n",
    "{question}\n",
    "\n",
    "# FORMAT:\n",
    "- 레시피 : \n",
    "\"\"\"\n",
    "\n",
    "# 프롬프트 템플릿을 이용하여 프롬프트를 생성합니다.\n",
    "prompt = PromptTemplate.from_template(template)\n",
    "prompt"
   ]
  },
  {
   "cell_type": "code",
   "execution_count": 101,
   "metadata": {},
   "outputs": [],
   "source": [
    "chain = prompt |model|output_parser"
   ]
  },
  {
   "cell_type": "code",
   "execution_count": 103,
   "metadata": {},
   "outputs": [
    {
     "name": "stdout",
     "output_type": "stream",
     "text": [
      "- 레시피 : \n",
      "\n",
      "**닭날개조림과 바질**\n",
      "\n",
      "**재료:**\n",
      "- 닭날개 1kg\n",
      "- 간장 1/2컵\n",
      "- 물 1컵\n",
      "- 설탕 2큰술\n",
      "- 다진 마늘 1큰술\n",
      "- 생강 슬라이스 3조각\n",
      "- 후춧가루 약간\n",
      "- 올리브 오일 2큰술\n",
      "- 바질 잎 한 줌\n",
      "- 통깨 약간 (선택)\n",
      "\n",
      "**조리 방법:**\n",
      "\n",
      "1. **닭날개 손질:** \n",
      "   - 닭날개를 깨끗이 씻고 물기를 제거합니다. \n",
      "   \n",
      "2. **양념장 만들기:** \n",
      "   - 큰 볼에 간장, 물, 설탕, 다진 마늘, 생강 슬라이스, 후춧가루를 넣고 잘 섞어 양념장을 만듭니다.\n",
      "\n",
      "3. **닭날개 조리:** \n",
      "   - 팬에 올리브 오일을 두르고 중불로 가열합니다. \n",
      "   - 닭날개를 팬에 넣고 겉면이 노릇해질 때까지 약 5분간 구워줍니다.\n",
      "\n",
      "4. **조림 시작:** \n",
      "   - 구운 닭날개에 양념장을 붓고 끓입니다.\n",
      "   - 끓어오르면 불을 약하게 줄이고 뚜껑을 덮고 30분간 조려줍니다. 중간에 닭날개를 뒤집어 주면 더욱 맛있습니다.\n",
      "\n",
      "5. **바질 추가:** \n",
      "   - 조림이 다 된 후, 불을 끄고 바질 잎을 넣어 살짝 섞어줍니다. 바질의 향이 닭날개에 스며듭니다.\n",
      "\n",
      "6. **서빙:** \n",
      "   - 접시에 닭날개를 담고, 원한다면 통깨를 뿌려 장식합니다.\n",
      "   - 바질 잎을 곁들여 더욱 상큼한 맛을 느낄 수 있습니다.\n",
      "\n",
      "**팁:** \n",
      "- 조리 중간에 양념장을 조금 더 추가하면 더욱 깊은 맛을 느낄 수 있습니다.\n",
      "- 매운 맛을 원하시면 고추를 추가해도 좋습니다.\n",
      "\n",
      "맛있게 드세요!\n"
     ]
    }
   ],
   "source": [
    "print(chain.invoke(\"닭날개조림 그리고 바질을 곁들인...\"))"
   ]
  },
  {
   "cell_type": "code",
   "execution_count": 106,
   "metadata": {},
   "outputs": [],
   "source": [
    "from langchain_teddynote.messages import stream_response"
   ]
  },
  {
   "cell_type": "code",
   "execution_count": 107,
   "metadata": {},
   "outputs": [
    {
     "name": "stdout",
     "output_type": "stream",
     "text": [
      "- 레시피 : 비행기에서 간편하게 즐길 수 있는 '간편 컵라면'\n",
      "\n",
      "## 재료:\n",
      "- 컵라면 1개\n",
      "- 뜨거운 물 (비행기 내 제공되는 물)\n",
      "- 간단한 고명 (선택 사항: 김, 단무지, 치킨너겟 등)\n",
      "\n",
      "## 조리 방법:\n",
      "1. **컵라면 준비**: 비행기 좌석에 앉아 컵라면을 꺼냅니다. 기내에서 제공된 수저 또는 포크를 준비합니다.\n",
      "   \n",
      "2. **물 붓기**: 컵라면의 뚜껑을 살짝 열고, 내부의 스프와 건더기를 확인합니다. 뜨거운 물을 컵라면의 표시선까지 붓습니다. \n",
      "\n",
      "3. **뚜껑 덮기**: 컵라면의 뚜껑을 닫고 약 3-5분 정도 기다립니다. 이 시간 동안 비행기에서 제공되는 음료수를 즐기거나, 주변 경치를 감상하세요.\n",
      "\n",
      "4. **고명 추가 (선택 사항)**: 시간이 지나면 뚜껑을 열고, 준비한 고명을 추가합니다. 김이나 단무지를 넣으면 더욱 맛있습니다. \n",
      "\n",
      "5. **잘 섞기**: 수저로 내용물을 잘 저어줍니다. 면과 스프가 고루 섞이도록 합니다.\n",
      "\n",
      "6. **맛있게 먹기**: 이제 컵라면을 즐기세요! 비행 중에도 간편하게 한 끼를 해결할 수 있습니다.\n",
      "\n",
      "이렇게 비행기에서도 쉽고 빠르게 맛있는 컵라면을 즐길 수 있습니다. 안전한 비행 되세요!"
     ]
    }
   ],
   "source": [
    "stream_response(chain.invoke({\"question\":\"비행기\"}))"
   ]
  },
  {
   "cell_type": "code",
   "execution_count": null,
   "metadata": {},
   "outputs": [],
   "source": []
  }
 ],
 "metadata": {
  "language_info": {
   "name": "python"
  }
 },
 "nbformat": 4,
 "nbformat_minor": 2
}
